{
 "cells": [
  {
   "cell_type": "code",
   "execution_count": 1,
   "metadata": {},
   "outputs": [
    {
     "name": "stderr",
     "output_type": "stream",
     "text": [
      "/var/folders/4k/byg8gjqx3ld5757qnw63s0v00000gn/T/ipykernel_56488/4111138755.py:3: DeprecationWarning: \n",
      "Pyarrow will become a required dependency of pandas in the next major release of pandas (pandas 3.0),\n",
      "(to allow more performant data types, such as the Arrow string type, and better interoperability with other libraries)\n",
      "but was not found to be installed on your system.\n",
      "If this would cause problems for you,\n",
      "please provide us feedback at https://github.com/pandas-dev/pandas/issues/54466\n",
      "        \n",
      "  import pandas as pd\n"
     ]
    }
   ],
   "source": [
    "# importing libraries \n",
    "\n",
    "import os\n",
    "import re\n",
    "\n",
    "import pandas as pd \n",
    "import numpy as np \n",
    "\n",
    "import tensorflow as tf\n",
    "from keras import preprocessing\n",
    "from tensorflow.keras.applications import InceptionV3\n",
    "from tensorflow.keras.layers import GlobalAveragePooling2D, Dense, Dropout\n",
    "from tensorflow.keras.models import Model, load_model\n",
    "from tensorflow.keras.preprocessing import image\n",
    "from tensorflow.keras.optimizers.legacy import Adam \n",
    "from tensorflow.keras.applications.inception_v3 import preprocess_input\n",
    "from tensorflow.keras.preprocessing.image import ImageDataGenerator\n",
    "from tensorflow.keras.callbacks import EarlyStopping, ModelCheckpoint, ReduceLROnPlateau\n",
    "\n",
    "from sklearn.metrics import accuracy_score, classification_report, confusion_matrix\n",
    "\n",
    "import matplotlib.pyplot as plt\n",
    "import seaborn as sns\n",
    "%matplotlib inline"
   ]
  },
  {
   "cell_type": "code",
   "execution_count": 2,
   "metadata": {},
   "outputs": [],
   "source": [
    "# data folders\n",
    "\n",
    "train_path = '/Users/vschuckar/Desktop/data_analytics/Week_9/final_project/dataset/train'\n",
    "valid_path = '/Users/vschuckar/Desktop/data_analytics/Week_9/final_project/dataset/valid'\n",
    "test_path = '/Users/vschuckar/Desktop/data_analytics/Week_9/final_project/dataset/test'"
   ]
  },
  {
   "cell_type": "code",
   "execution_count": 3,
   "metadata": {},
   "outputs": [],
   "source": [
    "# creating a dataframe for the test folder with the images and their class \n",
    "\n",
    "test_images_path = '/Users/vschuckar/Desktop/data_analytics/Week_9/final_project/dataset/test/images'\n",
    "image_files_test = [file for file in os.listdir(test_images_path) if file.endswith('.jpg')]\n",
    "class_labels_test = [re.search(r'\\d+', file.split('_')[0]).group() for file in image_files_test]\n",
    "test_df = pd.DataFrame({'filename': image_files_test, 'class': class_labels_test})\n",
    "\n",
    "# creating a dataframe for the train folder with the images and their class \n",
    "\n",
    "train_images_path = '/Users/vschuckar/Desktop/data_analytics/Week_9/final_project/dataset/train/images'\n",
    "image_files_train = [file for file in os.listdir(train_images_path) if file.endswith('.jpg')]\n",
    "class_labels_train = [re.search(r'\\d+', file.split('_')[0]).group() for file in image_files_train]\n",
    "train_df = pd.DataFrame({'filename': image_files_train, 'class': class_labels_train})\n",
    "\n",
    "# creating a dataframe for the valid folder with the images and their class \n",
    "\n",
    "valid_images_path = '/Users/vschuckar/Desktop/data_analytics/Week_9/final_project/dataset/valid/images'\n",
    "image_files_valid = [file for file in os.listdir(valid_images_path) if file.endswith('.jpg')]\n",
    "class_labels_valid = [re.search(r'\\d+', file.split('_')[0]).group() for file in image_files_valid]\n",
    "validation_df = pd.DataFrame({'filename': image_files_valid, 'class': class_labels_valid})"
   ]
  },
  {
   "cell_type": "code",
   "execution_count": 4,
   "metadata": {},
   "outputs": [
    {
     "data": {
      "text/plain": [
       "class\n",
       "1    22\n",
       "5    15\n",
       "4    14\n",
       "0    13\n",
       "2    13\n",
       "3     6\n",
       "Name: count, dtype: int64"
      ]
     },
     "execution_count": 4,
     "metadata": {},
     "output_type": "execute_result"
    }
   ],
   "source": [
    "# confirming the creation of the dfs and the classes \n",
    "\n",
    "test_df['class'].value_counts()"
   ]
  },
  {
   "cell_type": "code",
   "execution_count": 5,
   "metadata": {},
   "outputs": [
    {
     "name": "stdout",
     "output_type": "stream",
     "text": [
      "Found 1804 validated image filenames belonging to 6 classes.\n",
      "Found 173 validated image filenames belonging to 6 classes.\n",
      "Found 83 validated image filenames.\n"
     ]
    }
   ],
   "source": [
    "# real-time data augmentation and preparing the data for training \n",
    "\n",
    "batch_size = 32  \n",
    "train_datagen = ImageDataGenerator(\n",
    "    rescale=1./255,\n",
    "    rotation_range=20,\n",
    "    width_shift_range=0.2,\n",
    "    height_shift_range=0.2,\n",
    "    shear_range=0.2,\n",
    "    zoom_range=0.2,\n",
    "    horizontal_flip=True,\n",
    "    fill_mode='nearest'\n",
    ")\n",
    "\n",
    "train_generator = train_datagen.flow_from_dataframe(\n",
    "    train_df,\n",
    "    directory=train_images_path,\n",
    "    x_col='filename',\n",
    "    y_col='class',\n",
    "    target_size=(299, 299),\n",
    "    batch_size=batch_size,\n",
    "    class_mode='sparse',  \n",
    "    shuffle=True\n",
    ")\n",
    "\n",
    "validation_datagen = ImageDataGenerator(rescale=1./255)\n",
    "validation_generator = validation_datagen.flow_from_dataframe(\n",
    "    validation_df,\n",
    "    directory=valid_images_path,\n",
    "    x_col='filename',\n",
    "    y_col='class',\n",
    "    target_size=(299, 299),\n",
    "    batch_size=batch_size,\n",
    "    class_mode='sparse'\n",
    ")\n",
    "\n",
    "test_datagen = ImageDataGenerator(rescale=1./255)\n",
    "test_generator = test_datagen.flow_from_dataframe(\n",
    "    test_df,\n",
    "    directory=test_images_path,\n",
    "    target_size=(299, 299),\n",
    "    batch_size=batch_size,\n",
    "    class_mode=None,  \n",
    "    shuffle=False  \n",
    ")"
   ]
  },
  {
   "cell_type": "code",
   "execution_count": 6,
   "metadata": {},
   "outputs": [],
   "source": [
    "# calling the pre trained model, freezing its layers, adding my layer and its output, and compiling\n",
    "\n",
    "base_model = InceptionV3(weights='imagenet', include_top=False, input_shape=(299, 299, 3))\n",
    "\n",
    "for layer in base_model.layers:\n",
    "    layer.trainable = False\n",
    "    \n",
    "x = base_model.output\n",
    "x = GlobalAveragePooling2D()(x)\n",
    "x = Dense(64, activation='relu')(x)  \n",
    "predictions = Dense(6, activation='softmax')(x)  \n",
    "\n",
    "model = Model(inputs=base_model.input, outputs=predictions)\n",
    "model.compile(optimizer='adam', loss='sparse_categorical_crossentropy', metrics=['accuracy'])"
   ]
  },
  {
   "cell_type": "code",
   "execution_count": 7,
   "metadata": {},
   "outputs": [
    {
     "name": "stdout",
     "output_type": "stream",
     "text": [
      "Epoch 1/20\n",
      "57/57 - 84s - loss: 1.3803 - accuracy: 0.4767 - val_loss: 0.9069 - val_accuracy: 0.6994 - 84s/epoch - 1s/step\n",
      "Epoch 2/20\n"
     ]
    },
    {
     "name": "stderr",
     "output_type": "stream",
     "text": [
      "/opt/homebrew/lib/python3.11/site-packages/keras/src/engine/training.py:3103: UserWarning: You are saving your model as an HDF5 file via `model.save()`. This file format is considered legacy. We recommend using instead the native Keras format, e.g. `model.save('my_model.keras')`.\n",
      "  saving_api.save_model(\n"
     ]
    },
    {
     "name": "stdout",
     "output_type": "stream",
     "text": [
      "57/57 - 91s - loss: 0.8829 - accuracy: 0.6984 - val_loss: 0.7154 - val_accuracy: 0.7688 - 91s/epoch - 2s/step\n",
      "Epoch 3/20\n",
      "57/57 - 90s - loss: 0.7489 - accuracy: 0.7489 - val_loss: 0.6755 - val_accuracy: 0.7630 - 90s/epoch - 2s/step\n",
      "Epoch 4/20\n",
      "57/57 - 92s - loss: 0.6467 - accuracy: 0.7655 - val_loss: 0.5873 - val_accuracy: 0.7803 - 92s/epoch - 2s/step\n",
      "Epoch 5/20\n",
      "57/57 - 93s - loss: 0.6331 - accuracy: 0.7716 - val_loss: 0.6647 - val_accuracy: 0.7341 - 93s/epoch - 2s/step\n",
      "Epoch 6/20\n",
      "57/57 - 94s - loss: 0.5675 - accuracy: 0.8004 - val_loss: 0.6144 - val_accuracy: 0.7977 - 94s/epoch - 2s/step\n",
      "Epoch 7/20\n",
      "57/57 - 95s - loss: 0.5495 - accuracy: 0.7966 - val_loss: 0.6020 - val_accuracy: 0.7977 - 95s/epoch - 2s/step\n",
      "Epoch 8/20\n",
      "57/57 - 95s - loss: 0.5146 - accuracy: 0.8099 - val_loss: 0.5584 - val_accuracy: 0.7803 - 95s/epoch - 2s/step\n",
      "Epoch 9/20\n",
      "57/57 - 96s - loss: 0.4900 - accuracy: 0.8259 - val_loss: 0.5826 - val_accuracy: 0.8035 - 96s/epoch - 2s/step\n",
      "Epoch 10/20\n",
      "57/57 - 96s - loss: 0.4775 - accuracy: 0.8265 - val_loss: 0.5960 - val_accuracy: 0.7861 - 96s/epoch - 2s/step\n",
      "Epoch 11/20\n",
      "57/57 - 100s - loss: 0.4513 - accuracy: 0.8287 - val_loss: 0.6030 - val_accuracy: 0.7803 - 100s/epoch - 2s/step\n",
      "Epoch 12/20\n",
      "57/57 - 97s - loss: 0.4593 - accuracy: 0.8376 - val_loss: 0.5917 - val_accuracy: 0.7977 - 97s/epoch - 2s/step\n",
      "Epoch 13/20\n",
      "57/57 - 97s - loss: 0.4235 - accuracy: 0.8398 - val_loss: 0.6040 - val_accuracy: 0.8092 - 97s/epoch - 2s/step\n",
      "Epoch 14/20\n",
      "57/57 - 97s - loss: 0.4031 - accuracy: 0.8559 - val_loss: 0.5875 - val_accuracy: 0.8324 - 97s/epoch - 2s/step\n",
      "Epoch 15/20\n",
      "57/57 - 100s - loss: 0.4075 - accuracy: 0.8575 - val_loss: 0.6815 - val_accuracy: 0.7919 - 100s/epoch - 2s/step\n",
      "Epoch 16/20\n",
      "57/57 - 97s - loss: 0.4283 - accuracy: 0.8354 - val_loss: 0.6444 - val_accuracy: 0.7746 - 97s/epoch - 2s/step\n",
      "Epoch 17/20\n",
      "57/57 - 96s - loss: 0.3858 - accuracy: 0.8681 - val_loss: 0.6310 - val_accuracy: 0.8208 - 96s/epoch - 2s/step\n",
      "Epoch 18/20\n",
      "57/57 - 98s - loss: 0.3958 - accuracy: 0.8559 - val_loss: 0.6030 - val_accuracy: 0.8208 - 98s/epoch - 2s/step\n"
     ]
    }
   ],
   "source": [
    "# training the model\n",
    "\n",
    "early_stopping = EarlyStopping(monitor='val_loss', patience=10, restore_best_weights=True)\n",
    "checkpoint = ModelCheckpoint('best_model-original.h5', save_best_only=True)\n",
    "history = model.fit(train_generator, epochs=20, validation_data=validation_generator, verbose=2, callbacks=[early_stopping, checkpoint] )"
   ]
  },
  {
   "cell_type": "code",
   "execution_count": 12,
   "metadata": {},
   "outputs": [
    {
     "data": {
      "image/png": "[encoded data removed]",
      "text/plain": [
       "<Figure size 640x480 with 1 Axes>"
      ]
     },
     "metadata": {},
     "output_type": "display_data"
    }
   ],
   "source": [
    "# plotting the val and training loss \n",
    "\n",
    "plt.plot(history.history['loss'], label='Training Loss')\n",
    "plt.plot(history.history['val_loss'], label='Validation Loss')\n",
    "plt.xlabel('Epoch')\n",
    "plt.ylabel('Loss')\n",
    "plt.legend()\n",
    "plt.show()"
   ]
  },
  {
   "cell_type": "code",
   "execution_count": 13,
   "metadata": {},
   "outputs": [
    {
     "name": "stdout",
     "output_type": "stream",
     "text": [
      "6/6 [==============================] - 7s 1s/step - loss: 0.5584 - accuracy: 0.7803\n",
      "Validation Loss: 0.5584167242050171, Validation Accuracy: 0.7803468108177185\n"
     ]
    }
   ],
   "source": [
    "# evaluating the model on the validation set\n",
    "\n",
    "val_loss, val_accuracy = model.evaluate(validation_generator)\n",
    "print(f'Validation Loss: {val_loss}, Validation Accuracy: {val_accuracy}')\n"
   ]
  },
  {
   "cell_type": "code",
   "execution_count": 14,
   "metadata": {},
   "outputs": [
    {
     "name": "stdout",
     "output_type": "stream",
     "text": [
      "3/3 [==============================] - 3s 930ms/step\n",
      "          filename class  predicted_class\n",
      "0   1_ecfcdf81.jpg     1                1\n",
      "1   0_37b28d86.jpg     0                0\n",
      "2   4_617cc4fc.jpg     4                4\n",
      "3   1_ab5b5d51.jpg     1                1\n",
      "4   4_f5a9c243.jpg     4                4\n",
      "..             ...   ...              ...\n",
      "78  4_76253060.jpg     4                4\n",
      "79  0_617ae978.jpg     0                1\n",
      "80  4_0c0be5b2.jpg     4                4\n",
      "81  1_7093ab43.jpg     1                1\n",
      "82  3_b592c43a.jpg     3                3\n",
      "\n",
      "[83 rows x 3 columns]\n"
     ]
    }
   ],
   "source": [
    "# making predictions on the test set\n",
    "\n",
    "test_predictions = model.predict(test_generator)\n",
    "\n",
    "# printing the predicted class for each test image\n",
    "\n",
    "test_predicted_classes = np.argmax(test_predictions, axis=1)\n",
    "test_df['predicted_class'] = test_predicted_classes\n",
    "print(test_df)\n",
    "\n"
   ]
  },
  {
   "cell_type": "code",
   "execution_count": 15,
   "metadata": {},
   "outputs": [
    {
     "name": "stdout",
     "output_type": "stream",
     "text": [
      "Accuracy: 78.31%\n",
      "Classification Report:\n",
      "              precision    recall  f1-score   support\n",
      "\n",
      "           0       0.83      0.77      0.80        13\n",
      "           1       0.67      0.82      0.73        22\n",
      "           2       0.89      0.62      0.73        13\n",
      "           3       0.33      0.33      0.33         6\n",
      "           4       1.00      0.93      0.96        14\n",
      "           5       0.88      0.93      0.90        15\n",
      "\n",
      "    accuracy                           0.78        83\n",
      "   macro avg       0.77      0.73      0.74        83\n",
      "weighted avg       0.80      0.78      0.78        83\n",
      "\n",
      "Confusion Matrix:\n",
      "[[10  3  0  0  0  0]\n",
      " [ 0 18  1  3  0  0]\n",
      " [ 0  3  8  1  0  1]\n",
      " [ 1  3  0  2  0  0]\n",
      " [ 0  0  0  0 13  1]\n",
      " [ 1  0  0  0  0 14]]\n"
     ]
    }
   ],
   "source": [
    "# calling the true labels for the test set\n",
    "\n",
    "true_labels = [int(label) for label in test_df['class']]\n",
    "\n",
    "# accuracy\n",
    "\n",
    "accuracy = accuracy_score(true_labels, test_predicted_classes)\n",
    "print(f'Accuracy: {accuracy:.2%}')\n",
    "\n",
    "# classification report\n",
    "\n",
    "print('Classification Report:')\n",
    "print(classification_report(true_labels, test_predicted_classes))"
   ]
  }
 ],
 "metadata": {
  "kernelspec": {
   "display_name": "Python 3",
   "language": "python",
   "name": "python3"
  },
  "language_info": {
   "codemirror_mode": {
    "name": "ipython",
    "version": 3
   },
   "file_extension": ".py",
   "mimetype": "text/x-python",
   "name": "python",
   "nbconvert_exporter": "python",
   "pygments_lexer": "ipython3",
   "version": "3.11.7"
  }
 },
 "nbformat": 4,
 "nbformat_minor": 2
}
