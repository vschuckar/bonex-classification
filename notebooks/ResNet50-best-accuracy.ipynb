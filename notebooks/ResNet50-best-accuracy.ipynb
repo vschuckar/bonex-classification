{
 "cells": [
  {
   "cell_type": "code",
   "execution_count": 1,
   "metadata": {},
   "outputs": [
    {
     "name": "stderr",
     "output_type": "stream",
     "text": [
      "/var/folders/4k/byg8gjqx3ld5757qnw63s0v00000gn/T/ipykernel_58716/1422717650.py:4: DeprecationWarning: \n",
      "Pyarrow will become a required dependency of pandas in the next major release of pandas (pandas 3.0),\n",
      "(to allow more performant data types, such as the Arrow string type, and better interoperability with other libraries)\n",
      "but was not found to be installed on your system.\n",
      "If this would cause problems for you,\n",
      "please provide us feedback at https://github.com/pandas-dev/pandas/issues/54466\n",
      "        \n",
      "  import pandas as pd\n"
     ]
    }
   ],
   "source": [
    "# importing the libraries \n",
    "\n",
    "import os\n",
    "import re\n",
    "\n",
    "import pandas as pd \n",
    "import numpy as np \n",
    "\n",
    "import tensorflow as tf\n",
    "from keras import preprocessing\n",
    "from tensorflow.keras.applications import ResNet50\n",
    "from tensorflow.keras.layers import GlobalAveragePooling2D, Dense, Dropout\n",
    "from tensorflow.keras.models import Model, load_model\n",
    "from tensorflow.keras.preprocessing import image\n",
    "from tensorflow.keras.optimizers.legacy import Adam \n",
    "from tensorflow.keras.preprocessing.image import ImageDataGenerator\n",
    "from tensorflow.keras.callbacks import EarlyStopping, ModelCheckpoint\n",
    "\n",
    "import matplotlib.pyplot as plt\n",
    "import seaborn as sns\n",
    "%matplotlib inline\n",
    "\n",
    "from sklearn.metrics import accuracy_score, classification_report, confusion_matrix, ConfusionMatrixDisplay"
   ]
  },
  {
   "cell_type": "code",
   "execution_count": 2,
   "metadata": {},
   "outputs": [],
   "source": [
    "# data folders\n",
    "\n",
    "train_path = '/Users/vschuckar/Desktop/data_analytics/Week_9/final_project/dataset/train'\n",
    "valid_path = '/Users/vschuckar/Desktop/data_analytics/Week_9/final_project/dataset/valid'\n",
    "test_path = '/Users/vschuckar/Desktop/data_analytics/Week_9/final_project/dataset/test'"
   ]
  },
  {
   "cell_type": "code",
   "execution_count": 3,
   "metadata": {},
   "outputs": [],
   "source": [
    "# creating a dataframe for the train folder with the images and their class \n",
    "\n",
    "train_images_path = '/Users/vschuckar/Desktop/data_analytics/Week_9/final_project/dataset/train/images'\n",
    "image_files_train = [file for file in os.listdir(train_images_path) if file.endswith('.jpg')]\n",
    "class_labels_train = [re.search(r'\\d+', file.split('_')[0]).group() for file in image_files_train]\n",
    "train_df = pd.DataFrame({'filename': image_files_train, 'class': class_labels_train})\n",
    "\n",
    "# creating a dataframe for the valid folder with the images and their class \n",
    "\n",
    "valid_images_path = '/Users/vschuckar/Desktop/data_analytics/Week_9/final_project/dataset/valid/images'\n",
    "image_files_valid = [file for file in os.listdir(valid_images_path) if file.endswith('.jpg')]\n",
    "class_labels_valid = [re.search(r'\\d+', file.split('_')[0]).group() for file in image_files_valid]\n",
    "validation_df = pd.DataFrame({'filename': image_files_valid, 'class': class_labels_valid})\n",
    "\n",
    "# creating a dataframe for the test folder with the images and their class \n",
    "\n",
    "test_images_path = '/Users/vschuckar/Desktop/data_analytics/Week_9/final_project/dataset/test/images'\n",
    "image_files_test = [file for file in os.listdir(test_images_path) if file.endswith('.jpg')]\n",
    "class_labels_test = [re.search(r'\\d+', file.split('_')[0]).group() for file in image_files_test]\n",
    "test_df = pd.DataFrame({'filename': image_files_test, 'class': class_labels_test})"
   ]
  },
  {
   "cell_type": "code",
   "execution_count": 4,
   "metadata": {},
   "outputs": [
    {
     "data": {
      "text/plain": [
       "class\n",
       "1    433\n",
       "5    315\n",
       "0    306\n",
       "4    299\n",
       "2    283\n",
       "3    168\n",
       "Name: count, dtype: int64"
      ]
     },
     "execution_count": 4,
     "metadata": {},
     "output_type": "execute_result"
    }
   ],
   "source": [
    "# confirming it has the right structure \n",
    "\n",
    "train_df['class'].value_counts()"
   ]
  },
  {
   "cell_type": "code",
   "execution_count": 5,
   "metadata": {},
   "outputs": [
    {
     "name": "stdout",
     "output_type": "stream",
     "text": [
      "Found 1804 validated image filenames belonging to 6 classes.\n",
      "Found 173 validated image filenames belonging to 6 classes.\n",
      "Found 83 validated image filenames.\n"
     ]
    }
   ],
   "source": [
    "# real-time data augmentation and preparing the data for training \n",
    "\n",
    "batch_size = 32  \n",
    "train_datagen = ImageDataGenerator(\n",
    "    rescale=1./255,\n",
    "    rotation_range=20,\n",
    "    width_shift_range=0.2,\n",
    "    height_shift_range=0.2,\n",
    "    shear_range=0.2,\n",
    "    zoom_range=0.2,\n",
    "    horizontal_flip=True,\n",
    "    fill_mode='nearest'\n",
    ")\n",
    "\n",
    "train_generator = train_datagen.flow_from_dataframe(\n",
    "    train_df,\n",
    "    directory=train_images_path,\n",
    "    x_col='filename',\n",
    "    y_col='class',\n",
    "    target_size=(299, 299),\n",
    "    batch_size=batch_size,\n",
    "    class_mode='sparse',  \n",
    "    shuffle=True\n",
    ")\n",
    "\n",
    "validation_datagen = ImageDataGenerator(rescale=1./255)\n",
    "validation_generator = validation_datagen.flow_from_dataframe(\n",
    "    validation_df,\n",
    "    directory=valid_images_path,\n",
    "    x_col='filename',\n",
    "    y_col='class',\n",
    "    target_size=(299, 299),\n",
    "    batch_size=batch_size,\n",
    "    class_mode='sparse'\n",
    ")\n",
    "\n",
    "test_datagen = ImageDataGenerator(rescale=1./255)\n",
    "test_generator = test_datagen.flow_from_dataframe(\n",
    "    test_df,\n",
    "    directory=test_images_path,\n",
    "    target_size=(299, 299),\n",
    "    batch_size=batch_size,\n",
    "    class_mode=None,  \n",
    "    shuffle=False  \n",
    ")"
   ]
  },
  {
   "cell_type": "code",
   "execution_count": 6,
   "metadata": {},
   "outputs": [],
   "source": [
    "# calling the pre trained model, unfreezing some layers, adding my layer, its output, and compiling\n",
    "\n",
    "base_model = ResNet50(weights='imagenet', include_top=False, input_shape=(299, 299, 3))\n",
    "\n",
    "for layer in base_model.layers[-10:]:\n",
    "    layer.trainable = True\n",
    "\n",
    "x = base_model.output\n",
    "x = GlobalAveragePooling2D()(x)\n",
    "x = Dense(64, activation='relu')(x)\n",
    "predictions = Dense(6, activation='softmax')(x)\n",
    "\n",
    "model = Model(inputs=base_model.input, outputs=predictions)\n",
    "model.compile(optimizer='adam', loss='sparse_categorical_crossentropy', metrics=['accuracy'])"
   ]
  },
  {
   "cell_type": "code",
   "execution_count": 7,
   "metadata": {},
   "outputs": [
    {
     "name": "stdout",
     "output_type": "stream",
     "text": [
      "Epoch 1/20\n"
     ]
    },
    {
     "name": "stderr",
     "output_type": "stream",
     "text": [
      "/opt/homebrew/lib/python3.11/site-packages/keras/src/engine/training.py:3103: UserWarning: You are saving your model as an HDF5 file via `model.save()`. This file format is considered legacy. We recommend using instead the native Keras format, e.g. `model.save('my_model.keras')`.\n",
      "  saving_api.save_model(\n"
     ]
    },
    {
     "name": "stdout",
     "output_type": "stream",
     "text": [
      "57/57 - 527s - loss: 1.5407 - accuracy: 0.4318 - val_loss: 4.5492 - val_accuracy: 0.2370 - 527s/epoch - 9s/step\n",
      "Epoch 2/20\n",
      "57/57 - 524s - loss: 1.0382 - accuracy: 0.6181 - val_loss: 3.6815 - val_accuracy: 0.2370 - 524s/epoch - 9s/step\n",
      "Epoch 3/20\n",
      "57/57 - 569s - loss: 0.8328 - accuracy: 0.6840 - val_loss: 1.8020 - val_accuracy: 0.1098 - 569s/epoch - 10s/step\n",
      "Epoch 4/20\n",
      "57/57 - 531s - loss: 0.6870 - accuracy: 0.7339 - val_loss: 1.8870 - val_accuracy: 0.2139 - 531s/epoch - 9s/step\n",
      "Epoch 5/20\n",
      "57/57 - 532s - loss: 0.6487 - accuracy: 0.7483 - val_loss: 2.6463 - val_accuracy: 0.2139 - 532s/epoch - 9s/step\n",
      "Epoch 6/20\n",
      "57/57 - 547s - loss: 0.5515 - accuracy: 0.7932 - val_loss: 1.7912 - val_accuracy: 0.2254 - 547s/epoch - 10s/step\n",
      "Epoch 7/20\n",
      "57/57 - 531s - loss: 0.4954 - accuracy: 0.8104 - val_loss: 1.7655 - val_accuracy: 0.2254 - 531s/epoch - 9s/step\n",
      "Epoch 8/20\n",
      "57/57 - 531s - loss: 0.4438 - accuracy: 0.8376 - val_loss: 2.0207 - val_accuracy: 0.1792 - 531s/epoch - 9s/step\n",
      "Epoch 9/20\n",
      "57/57 - 533s - loss: 0.4508 - accuracy: 0.8154 - val_loss: 4.7682 - val_accuracy: 0.2139 - 533s/epoch - 9s/step\n",
      "Epoch 10/20\n",
      "57/57 - 534s - loss: 0.4338 - accuracy: 0.8298 - val_loss: 1.9011 - val_accuracy: 0.1908 - 534s/epoch - 9s/step\n",
      "Epoch 11/20\n",
      "57/57 - 531s - loss: 0.4006 - accuracy: 0.8426 - val_loss: 2.0850 - val_accuracy: 0.2312 - 531s/epoch - 9s/step\n",
      "Epoch 12/20\n",
      "57/57 - 533s - loss: 0.3338 - accuracy: 0.8736 - val_loss: 2.1360 - val_accuracy: 0.1618 - 533s/epoch - 9s/step\n",
      "Epoch 13/20\n",
      "57/57 - 536s - loss: 0.3482 - accuracy: 0.8570 - val_loss: 2.2175 - val_accuracy: 0.2254 - 536s/epoch - 9s/step\n",
      "Epoch 14/20\n",
      "57/57 - 533s - loss: 0.3506 - accuracy: 0.8609 - val_loss: 2.3853 - val_accuracy: 0.3121 - 533s/epoch - 9s/step\n",
      "Epoch 15/20\n",
      "57/57 - 535s - loss: 0.3325 - accuracy: 0.8631 - val_loss: 2.3897 - val_accuracy: 0.2832 - 535s/epoch - 9s/step\n",
      "Epoch 16/20\n",
      "57/57 - 538s - loss: 0.3478 - accuracy: 0.8642 - val_loss: 3.7472 - val_accuracy: 0.1850 - 538s/epoch - 9s/step\n",
      "Epoch 17/20\n",
      "57/57 - 537s - loss: 0.3019 - accuracy: 0.8847 - val_loss: 1.3100 - val_accuracy: 0.5665 - 537s/epoch - 9s/step\n",
      "Epoch 18/20\n",
      "57/57 - 547s - loss: 0.2991 - accuracy: 0.8797 - val_loss: 1.4508 - val_accuracy: 0.5376 - 547s/epoch - 10s/step\n",
      "Epoch 19/20\n",
      "57/57 - 577s - loss: 0.3007 - accuracy: 0.8786 - val_loss: 1.0601 - val_accuracy: 0.7341 - 577s/epoch - 10s/step\n",
      "Epoch 20/20\n",
      "57/57 - 551s - loss: 0.2961 - accuracy: 0.8847 - val_loss: 1.2975 - val_accuracy: 0.6185 - 551s/epoch - 10s/step\n"
     ]
    }
   ],
   "source": [
    "# training the model\n",
    "\n",
    "early_stopping = EarlyStopping(monitor='val_loss', patience=10, restore_best_weights=True)\n",
    "checkpoint = ModelCheckpoint('best_model-res-net-best.h5', save_best_only=True)\n",
    "history = model.fit(train_generator, epochs=20, validation_data=validation_generator, verbose=2, callbacks=[early_stopping, checkpoint] )"
   ]
  },
  {
   "cell_type": "code",
   "execution_count": 12,
   "metadata": {},
   "outputs": [
    {
     "data": {
      "image/png": "[encoded data removed]",
      "text/plain": [
       "<Figure size 640x480 with 1 Axes>"
      ]
     },
     "metadata": {},
     "output_type": "display_data"
    }
   ],
   "source": [
    "# plotting the val and training loss \n",
    "\n",
    "plt.plot(history.history['loss'], label='Training Loss')\n",
    "plt.plot(history.history['val_loss'], label='Validation Loss')\n",
    "plt.xlabel('Epoch')\n",
    "plt.ylabel('Loss')\n",
    "plt.legend()\n",
    "plt.show()"
   ]
  },
  {
   "cell_type": "code",
   "execution_count": 13,
   "metadata": {},
   "outputs": [
    {
     "name": "stdout",
     "output_type": "stream",
     "text": [
      "6/6 [==============================] - 11s 2s/step - loss: 1.2975 - accuracy: 0.6185\n",
      "Validation Loss: 1.297473430633545, Validation Accuracy: 0.6184971332550049\n"
     ]
    }
   ],
   "source": [
    "# evaluating model on validation set\n",
    "\n",
    "val_loss, val_accuracy = model.evaluate(validation_generator)\n",
    "print(f'Validation Loss: {val_loss}, Validation Accuracy: {val_accuracy}')\n"
   ]
  },
  {
   "cell_type": "code",
   "execution_count": 14,
   "metadata": {},
   "outputs": [
    {
     "name": "stdout",
     "output_type": "stream",
     "text": [
      "3/3 [==============================] - 5s 2s/step\n",
      "          filename class  predicted_class\n",
      "0   1_ecfcdf81.jpg     1                3\n",
      "1   0_37b28d86.jpg     0                0\n",
      "2   4_617cc4fc.jpg     4                4\n",
      "3   1_ab5b5d51.jpg     1                4\n",
      "4   4_f5a9c243.jpg     4                4\n",
      "..             ...   ...              ...\n",
      "78  4_76253060.jpg     4                5\n",
      "79  0_617ae978.jpg     0                0\n",
      "80  4_0c0be5b2.jpg     4                4\n",
      "81  1_7093ab43.jpg     1                3\n",
      "82  3_b592c43a.jpg     3                3\n",
      "\n",
      "[83 rows x 3 columns]\n"
     ]
    }
   ],
   "source": [
    "# predictions on the test set\n",
    "\n",
    "test_predictions = model.predict(test_generator)\n",
    "\n",
    "# printing the predicted class for each test image\n",
    "\n",
    "test_predicted_classes = np.argmax(test_predictions, axis=1)\n",
    "test_df['predicted_class'] = test_predicted_classes\n",
    "print(test_df)\n",
    "\n"
   ]
  },
  {
   "cell_type": "code",
   "execution_count": 15,
   "metadata": {},
   "outputs": [
    {
     "name": "stdout",
     "output_type": "stream",
     "text": [
      "Accuracy: 61.45%\n",
      "Classification Report:\n",
      "              precision    recall  f1-score   support\n",
      "\n",
      "           0       0.57      1.00      0.72        13\n",
      "           1       1.00      0.32      0.48        22\n",
      "           2       0.60      0.23      0.33        13\n",
      "           3       0.38      1.00      0.55         6\n",
      "           4       0.71      0.71      0.71        14\n",
      "           5       0.67      0.80      0.73        15\n",
      "\n",
      "    accuracy                           0.61        83\n",
      "   macro avg       0.65      0.68      0.59        83\n",
      "weighted avg       0.72      0.61      0.58        83\n",
      "\n",
      "Confusion Matrix:\n",
      "[[13  0  0  0  0  0]\n",
      " [ 2  7  2  9  1  1]\n",
      " [ 5  0  3  1  2  2]\n",
      " [ 0  0  0  6  0  0]\n",
      " [ 1  0  0  0 10  3]\n",
      " [ 2  0  0  0  1 12]]\n"
     ]
    }
   ],
   "source": [
    "# calling the true labels for the test set\n",
    "\n",
    "true_labels = [int(label) for label in test_df['class']]\n",
    "\n",
    "# accuracy\n",
    "\n",
    "accuracy = accuracy_score(true_labels, test_predicted_classes)\n",
    "print(f'Accuracy: {accuracy:.2%}')\n",
    "\n",
    "# classification report\n",
    "\n",
    "print('Classification Report:')\n",
    "print(classification_report(true_labels, test_predicted_classes))"
   ]
  },
  {
   "cell_type": "code",
   "execution_count": null,
   "metadata": {},
   "outputs": [],
   "source": [
    "# plotting a confusion matrix as a heatmap due to the number of classes \n",
    "\n",
    "cm = confusion_matrix(true_labels, test_predicted_classes)\n",
    "\n",
    "plt.figure(figsize=(8, 6))\n",
    "sns.set(font_scale=1.2)  # Adjust font size for better readability\n",
    "sns.heatmap(cm, annot=True, fmt='g', cmap='Blues', xticklabels=['Class 0', 'Class 1', 'Class 2', 'Class 3', 'Class 4', 'Class 5'], yticklabels=['Class 0', 'Class 1', 'Class 2', 'Class 3', 'Class 4', 'Class 5'])\n",
    "plt.xlabel('Predicted')\n",
    "plt.ylabel('True')\n",
    "plt.title('Confusion Matrix')\n",
    "plt.show()"
   ]
  }
 ],
 "metadata": {
  "kernelspec": {
   "display_name": "Python 3",
   "language": "python",
   "name": "python3"
  },
  "language_info": {
   "codemirror_mode": {
    "name": "ipython",
    "version": 3
   },
   "file_extension": ".py",
   "mimetype": "text/x-python",
   "name": "python",
   "nbconvert_exporter": "python",
   "pygments_lexer": "ipython3",
   "version": "3.11.7"
  }
 },
 "nbformat": 4,
 "nbformat_minor": 2
}
