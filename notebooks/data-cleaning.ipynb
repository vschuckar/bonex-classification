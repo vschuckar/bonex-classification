{
 "cells": [
  {
   "cell_type": "code",
   "execution_count": 1,
   "metadata": {},
   "outputs": [
    {
     "name": "stderr",
     "output_type": "stream",
     "text": [
      "/var/folders/4k/byg8gjqx3ld5757qnw63s0v00000gn/T/ipykernel_42590/2371898146.py:2: DeprecationWarning: \n",
      "Pyarrow will become a required dependency of pandas in the next major release of pandas (pandas 3.0),\n",
      "(to allow more performant data types, such as the Arrow string type, and better interoperability with other libraries)\n",
      "but was not found to be installed on your system.\n",
      "If this would cause problems for you,\n",
      "please provide us feedback at https://github.com/pandas-dev/pandas/issues/54466\n",
      "        \n",
      "  import pandas as pd\n"
     ]
    }
   ],
   "source": [
    "# importing libraries \n",
    "\n",
    "import os\n",
    "import pandas as pd \n",
    "import numpy as np \n",
    "import hashlib\n",
    "import re"
   ]
  },
  {
   "cell_type": "code",
   "execution_count": 2,
   "metadata": {},
   "outputs": [],
   "source": [
    "# data folders\n",
    "\n",
    "train_path = '/Users/vschuckar/Desktop/data_analytics/Week_9/final_project/dataset/train'\n",
    "valid_path = '/Users/vschuckar/Desktop/data_analytics/Week_9/final_project/dataset/valid'\n",
    "test_path = '/Users/vschuckar/Desktop/data_analytics/Week_9/final_project/dataset/test'"
   ]
  },
  {
   "cell_type": "markdown",
   "metadata": {},
   "source": [
    "### Data \"cleaning\" and preprocessing \n",
    "Data source: https://www.kaggle.com/datasets/pkdarabi/bone-fracture-detection-computer-vision-project/data\n",
    "\n",
    "Data structure: \n",
    "* Three folders: train, valid, and test.\n",
    "  * Inside each folder, two folders: images and labels.\n",
    "    * images folder: x-ray images of different fracture sites.\n",
    "    * labels folder: .txt files with the following structure -> class number and bounding box specifications.\n",
    "  \n",
    "Problems with the dataset: \n",
    "* The names of the image files and txt files were the same for each different file but did not have any useful information on it.\n",
    "* The classification of the images were the following numbers: 0, 1, 2, 4, 5, and 6 which can lead to confusion due to the missing 3.\n",
    "* The fracture names are: Elbow Positive, Fingers Positive, Forearm Fracture, Humerus Fracture, Shoulder Fracture, and Wrist Positive but there were not \n",
    "  clearly connected in the data source with the class numbers. \n",
    "* A lot of the txt were empty. \n",
    "\n",
    "Solutions: \n",
    "1. Extract the class number from the txt file and put it on the image file name and the txt file name, obviously matching image/txt file names for each file.\n",
    "2. Change the number of class 6 to class 3. \n",
    "3. Investigate the images and confirm to each fracture name each class belong. \n",
    "4. Skip while renaming and delete the empty txt files to avoid confusion.\n",
    "\n",
    "Solution 3. \n",
    "* Class 0 - Elbow Positive \n",
    "* Class 1 - Fingers Positive \n",
    "* Class 2 - Forearm Positive \n",
    "* Class 3 - Wrist Positive \n",
    "* Class 4 - Humerus Fracture\n",
    "* Class 5 - Shoulder Fracture \n",
    "\n"
   ]
  },
  {
   "cell_type": "code",
   "execution_count": null,
   "metadata": {},
   "outputs": [],
   "source": [
    "# function to generate a short name for the image and .txt files, with the first character of the name being the class\n",
    "\n",
    "def generate_short_name(file_name):\n",
    "    '''\n",
    "    This function receives a file name and return a short random 8 characters name, unique for each file. \n",
    "    Input: File name\n",
    "    Output: New random unique file name with 8 characters\n",
    "    '''\n",
    "    return hashlib.md5(file_name.encode('utf-8')).hexdigest()[:8]\n",
    "\n",
    "def rename_images_with_classification(folder_path):\n",
    "    '''\n",
    "    This function receives a folder path and, inside of the folder, looks for the files that end with .jpg and .txt.\n",
    "    Then, it gets the first character inside for the .txt file, which becomes the first character of the new .jpg file name, \n",
    "    the rest of the .jpg file name is a short random 8 characters string. \n",
    "    Input: Folder path\n",
    "    Output: New name for the .jpg, with a specific first character and new 8 random characters\n",
    "    '''\n",
    "    for subdir in os.listdir(folder_path):\n",
    "        if os.path.isdir(os.path.join(folder_path, subdir)):\n",
    "            images_path = os.path.join(folder_path, subdir, 'images')\n",
    "            labels_path = os.path.join(folder_path, subdir, 'labels')\n",
    "\n",
    "            for file_name in os.listdir(images_path):\n",
    "                if file_name.endswith('.jpg'):\n",
    "                    image_path = os.path.join(images_path, file_name)\n",
    "\n",
    "                    label_file_path = os.path.join(labels_path, file_name.replace('.jpg', '.txt'))\n",
    "\n",
    "                    if not os.path.exists(label_file_path):\n",
    "                        print(f\"Label file not found for {file_name}. Skipping.\")\n",
    "                        continue\n",
    "\n",
    "                    with open(label_file_path, 'r') as label_file:\n",
    "                        classification = label_file.read(1)\n",
    "\n",
    "                        if not classification:\n",
    "                            print(f\"Skipping {label_file_path} as it is empty.\")\n",
    "                            continue\n",
    "\n",
    "                    short_name = generate_short_name(file_name)\n",
    "\n",
    "                    new_file_name = f\"{classification}_{short_name}.jpg\"\n",
    "\n",
    "                    os.rename(image_path, os.path.join(images_path, new_file_name))"
   ]
  },
  {
   "cell_type": "code",
   "execution_count": null,
   "metadata": {},
   "outputs": [],
   "source": [
    "# applying the function above \n",
    "\n",
    "rename_images_with_classification('/Users/vschuckar/Desktop/data_analytics/Week_9/final_project/dataset')"
   ]
  },
  {
   "cell_type": "code",
   "execution_count": 5,
   "metadata": {},
   "outputs": [],
   "source": [
    "# in the function above, I asked to skip all the empty .txt and there were a lot of them, so I will delete them to avoid confusion\n",
    "# function to delete the empty txt files\n",
    "\n",
    "def delete_empty_txt_files(folder_path):\n",
    "    '''\n",
    "    This function receives a folder path and access its .txt files. If it is empty, it deletes the file. \n",
    "    Input: Folder path\n",
    "    Output: Deletes empty .txt files\n",
    "    '''\n",
    "    if not os.path.exists(folder_path):\n",
    "        print(f\"Folder '{folder_path}' does not exist.\")\n",
    "        return\n",
    "    \n",
    "    for filename in os.listdir(folder_path):\n",
    "        file_path = os.path.join(folder_path, filename)\n",
    "        \n",
    "        if filename.endswith(\".txt\") and os.path.getsize(file_path) == 0:\n",
    "            try:\n",
    "                os.remove(file_path)\n",
    "                print(f\"Deleted: {file_path}\")\n",
    "            except Exception as e:\n",
    "                print(f\"Error deleting {file_path}: {e}\")"
   ]
  },
  {
   "cell_type": "code",
   "execution_count": null,
   "metadata": {},
   "outputs": [],
   "source": [
    "# applying the function above \n",
    "\n",
    "folder_path = \"/Users/vschuckar/Desktop/data_analytics/Week_9/final_project/dataset\"\n",
    "delete_empty_txt_files(folder_path)"
   ]
  },
  {
   "cell_type": "code",
   "execution_count": null,
   "metadata": {},
   "outputs": [],
   "source": [
    "# creating a function to change the class to another number \n",
    "\n",
    "def rename_images_with_new_class(folder_path, old_class, new_class):\n",
    "    '''\n",
    "    This function receives a folder path, access its files and, if it is a .jpg file, changes the first character of its name to another.\n",
    "    Input: Folder path, old first character of the file name, new first character of the file name\n",
    "    Output: Changed first character of the .jpg file name \n",
    "    '''\n",
    "    for file_name in os.listdir(folder_path):\n",
    "        if file_name.endswith('.jpg'):\n",
    "            image_path = os.path.join(folder_path, file_name)\n",
    "            \n",
    "            class_match = re.match(r'^(\\d+)_', file_name)\n",
    "            \n",
    "            if class_match:\n",
    "                class_label = class_match.group(1)\n",
    "                \n",
    "                if class_label == str(old_class):\n",
    "                    new_file_name = f\"{new_class}_{file_name[len(class_label) + 1:]}\"\n",
    "                    \n",
    "                    os.rename(image_path, os.path.join(folder_path, new_file_name))\n",
    "            else:\n",
    "                print(f\"Skipping {file_name} as it does not follow the expected pattern.\")"
   ]
  },
  {
   "cell_type": "code",
   "execution_count": null,
   "metadata": {},
   "outputs": [],
   "source": [
    "# applying the function \n",
    "\n",
    "rename_images_with_new_class('/Users/vschuckar/Desktop/data_analytics/Week_9/final_project/dataset/train/images', old_class=6, new_class=3)\n",
    "rename_images_with_new_class('/Users/vschuckar/Desktop/data_analytics/Week_9/final_project/dataset/test/images', old_class=6, new_class=3)\n",
    "rename_images_with_new_class('/Users/vschuckar/Desktop/data_analytics/Week_9/final_project/dataset/valid/images', old_class=6, new_class=3)"
   ]
  }
 ],
 "metadata": {
  "kernelspec": {
   "display_name": "Python 3",
   "language": "python",
   "name": "python3"
  },
  "language_info": {
   "codemirror_mode": {
    "name": "ipython",
    "version": 3
   },
   "file_extension": ".py",
   "mimetype": "text/x-python",
   "name": "python",
   "nbconvert_exporter": "python",
   "pygments_lexer": "ipython3",
   "version": "3.11.7"
  }
 },
 "nbformat": 4,
 "nbformat_minor": 2
}
